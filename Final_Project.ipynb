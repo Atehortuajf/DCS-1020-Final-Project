{
  "nbformat": 4,
  "nbformat_minor": 0,
  "metadata": {
    "colab": {
      "name": "Final Project.ipynb",
      "provenance": []
    },
    "kernelspec": {
      "name": "python3",
      "display_name": "Python 3"
    }
  },
  "cells": [
    {
      "cell_type": "code",
      "metadata": {
        "colab": {
          "base_uri": "https://localhost:8080/"
        },
        "id": "AzQ-oPC7Bhpt",
        "outputId": "142750d1-e592-41ef-ea4f-49158872ece5"
      },
      "source": [
        "# Installs the HTRC feature reader\r\n",
        "#\r\n",
        "!pip install htrc-feature-reader\r\n",
        "from htrc_features import FeatureReader\r\n",
        "import os\r\n"
      ],
      "execution_count": null,
      "outputs": [
        {
          "output_type": "stream",
          "text": [
            "Requirement already satisfied: htrc-feature-reader in /usr/local/lib/python3.6/dist-packages (2.0.7)\n",
            "Requirement already satisfied: pymarc in /usr/local/lib/python3.6/dist-packages (from htrc-feature-reader) (4.0.0)\n",
            "Requirement already satisfied: python-rapidjson in /usr/local/lib/python3.6/dist-packages (from htrc-feature-reader) (1.0)\n",
            "Requirement already satisfied: requests in /usr/local/lib/python3.6/dist-packages (from htrc-feature-reader) (2.23.0)\n",
            "Requirement already satisfied: six in /usr/local/lib/python3.6/dist-packages (from htrc-feature-reader) (1.15.0)\n",
            "Requirement already satisfied: pandas>=0.24 in /usr/local/lib/python3.6/dist-packages (from htrc-feature-reader) (1.1.5)\n",
            "Requirement already satisfied: urllib3!=1.25.0,!=1.25.1,<1.26,>=1.21.1 in /usr/local/lib/python3.6/dist-packages (from requests->htrc-feature-reader) (1.24.3)\n",
            "Requirement already satisfied: chardet<4,>=3.0.2 in /usr/local/lib/python3.6/dist-packages (from requests->htrc-feature-reader) (3.0.4)\n",
            "Requirement already satisfied: certifi>=2017.4.17 in /usr/local/lib/python3.6/dist-packages (from requests->htrc-feature-reader) (2020.12.5)\n",
            "Requirement already satisfied: idna<3,>=2.5 in /usr/local/lib/python3.6/dist-packages (from requests->htrc-feature-reader) (2.10)\n",
            "Requirement already satisfied: pytz>=2017.2 in /usr/local/lib/python3.6/dist-packages (from pandas>=0.24->htrc-feature-reader) (2018.9)\n",
            "Requirement already satisfied: python-dateutil>=2.7.3 in /usr/local/lib/python3.6/dist-packages (from pandas>=0.24->htrc-feature-reader) (2.8.1)\n",
            "Requirement already satisfied: numpy>=1.15.4 in /usr/local/lib/python3.6/dist-packages (from pandas>=0.24->htrc-feature-reader) (1.19.4)\n"
          ],
          "name": "stdout"
        }
      ]
    },
    {
      "cell_type": "markdown",
      "metadata": {
        "id": "RgR71wVcBiTF"
      },
      "source": [
        "Andy Chen\r\n",
        "\r\n",
        "Adi Pall-Pareek\r\n",
        "\r\n",
        "Juan F. Atehortúa\r\n",
        "\r\n",
        "DCS 1020\r\n",
        "# An Introspective look into the computational tools used in reading at scale"
      ]
    },
    {
      "cell_type": "markdown",
      "metadata": {
        "id": "U3Vo_9rAZlPQ"
      },
      "source": [
        "Ted Underwood Genre Project\n"
      ]
    },
    {
      "cell_type": "markdown",
      "metadata": {
        "id": "yQ32MLx3LPUk"
      },
      "source": [
        "#Bibliography\r\n",
        "- Jacob Jett, Boris Capitanu, Deren Kudeki, Timothy Cole, Yuerong Hu, Peter Organisciak, Ted Underwood, Eleanor Dickson Koehl, Ryan Dubnicek, J. Stephen Downie (2020). The HathiTrust Research Center Extracted Features Dataset (2.0).HathiTrust Research Center.https://doi.org/10.13012/R2TE-C227"
      ]
    }
  ]
}